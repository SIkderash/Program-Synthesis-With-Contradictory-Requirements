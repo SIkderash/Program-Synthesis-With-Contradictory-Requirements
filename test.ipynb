{
 "cells": [
  {
   "cell_type": "code",
   "execution_count": 1,
   "metadata": {},
   "outputs": [],
   "source": [
    "import pandas as pd"
   ]
  },
  {
   "cell_type": "code",
   "execution_count": 2,
   "metadata": {},
   "outputs": [
    {
     "data": {
      "text/html": [
       "<div>\n",
       "<style scoped>\n",
       "    .dataframe tbody tr th:only-of-type {\n",
       "        vertical-align: middle;\n",
       "    }\n",
       "\n",
       "    .dataframe tbody tr th {\n",
       "        vertical-align: top;\n",
       "    }\n",
       "\n",
       "    .dataframe thead th {\n",
       "        text-align: right;\n",
       "    }\n",
       "</style>\n",
       "<table border=\"1\" class=\"dataframe\">\n",
       "  <thead>\n",
       "    <tr style=\"text-align: right;\">\n",
       "      <th></th>\n",
       "      <th>Query</th>\n",
       "      <th>Type</th>\n",
       "      <th>Subtype</th>\n",
       "    </tr>\n",
       "  </thead>\n",
       "  <tbody>\n",
       "    <tr>\n",
       "      <th>0</th>\n",
       "      <td>Write a Python function to reverse a string. T...</td>\n",
       "      <td>Contradictory</td>\n",
       "      <td>Simplex</td>\n",
       "    </tr>\n",
       "    <tr>\n",
       "      <th>1</th>\n",
       "      <td>If the input string contains vowels, reverse i...</td>\n",
       "      <td>Contrary</td>\n",
       "      <td>Idem</td>\n",
       "    </tr>\n",
       "    <tr>\n",
       "      <th>2</th>\n",
       "      <td>If the string length is even, reverse it. If t...</td>\n",
       "      <td>Subaltern</td>\n",
       "      <td>Alius</td>\n",
       "    </tr>\n",
       "    <tr>\n",
       "      <th>3</th>\n",
       "      <td>Write a Python function to convert a tuple to ...</td>\n",
       "      <td>Contradictory</td>\n",
       "      <td>Simplex</td>\n",
       "    </tr>\n",
       "    <tr>\n",
       "      <th>4</th>\n",
       "      <td>If the tuple contains integers, convert it to ...</td>\n",
       "      <td>Contrary</td>\n",
       "      <td>Idem</td>\n",
       "    </tr>\n",
       "  </tbody>\n",
       "</table>\n",
       "</div>"
      ],
      "text/plain": [
       "                                               Query           Type  Subtype\n",
       "0  Write a Python function to reverse a string. T...  Contradictory  Simplex\n",
       "1  If the input string contains vowels, reverse i...       Contrary     Idem\n",
       "2  If the string length is even, reverse it. If t...      Subaltern    Alius\n",
       "3  Write a Python function to convert a tuple to ...  Contradictory  Simplex\n",
       "4  If the tuple contains integers, convert it to ...       Contrary     Idem"
      ]
     },
     "execution_count": 2,
     "metadata": {},
     "output_type": "execute_result"
    }
   ],
   "source": [
    "df = pd.read_csv('input.csv')\n",
    "df.head()"
   ]
  },
  {
   "cell_type": "code",
   "execution_count": 3,
   "metadata": {},
   "outputs": [
    {
     "data": {
      "text/html": [
       "<div>\n",
       "<style scoped>\n",
       "    .dataframe tbody tr th:only-of-type {\n",
       "        vertical-align: middle;\n",
       "    }\n",
       "\n",
       "    .dataframe tbody tr th {\n",
       "        vertical-align: top;\n",
       "    }\n",
       "\n",
       "    .dataframe thead th {\n",
       "        text-align: right;\n",
       "    }\n",
       "</style>\n",
       "<table border=\"1\" class=\"dataframe\">\n",
       "  <thead>\n",
       "    <tr style=\"text-align: right;\">\n",
       "      <th></th>\n",
       "      <th>Query</th>\n",
       "      <th>Output</th>\n",
       "    </tr>\n",
       "  </thead>\n",
       "  <tbody>\n",
       "    <tr>\n",
       "      <th>0</th>\n",
       "      <td>Write a Python function to reverse a string. T...</td>\n",
       "      <td>```\\ndef reverse_string(str):\\n    \"\"\"\\n    Re...</td>\n",
       "    </tr>\n",
       "    <tr>\n",
       "      <th>1</th>\n",
       "      <td>If the input string contains vowels, reverse i...</td>\n",
       "      <td>\\nGiven a string `s`, return `s` if it does no...</td>\n",
       "    </tr>\n",
       "    <tr>\n",
       "      <th>2</th>\n",
       "      <td>If the string length is even, reverse it. If t...</td>\n",
       "      <td>\\nHere's one way to solve this problem:\\n```\\n...</td>\n",
       "    </tr>\n",
       "    <tr>\n",
       "      <th>3</th>\n",
       "      <td>Write a Python function to convert a tuple to ...</td>\n",
       "      <td>\\nTo convert a tuple to a list while ensuring ...</td>\n",
       "    </tr>\n",
       "    <tr>\n",
       "      <th>4</th>\n",
       "      <td>If the tuple contains integers, convert it to ...</td>\n",
       "      <td>\\nGiven a tuple `t = (1, 2, 3, 4)`, if the ele...</td>\n",
       "    </tr>\n",
       "  </tbody>\n",
       "</table>\n",
       "</div>"
      ],
      "text/plain": [
       "                                               Query  \\\n",
       "0  Write a Python function to reverse a string. T...   \n",
       "1  If the input string contains vowels, reverse i...   \n",
       "2  If the string length is even, reverse it. If t...   \n",
       "3  Write a Python function to convert a tuple to ...   \n",
       "4  If the tuple contains integers, convert it to ...   \n",
       "\n",
       "                                              Output  \n",
       "0  ```\\ndef reverse_string(str):\\n    \"\"\"\\n    Re...  \n",
       "1  \\nGiven a string `s`, return `s` if it does no...  \n",
       "2  \\nHere's one way to solve this problem:\\n```\\n...  \n",
       "3  \\nTo convert a tuple to a list while ensuring ...  \n",
       "4  \\nGiven a tuple `t = (1, 2, 3, 4)`, if the ele...  "
      ]
     },
     "execution_count": 3,
     "metadata": {},
     "output_type": "execute_result"
    }
   ],
   "source": [
    "output_df = pd.read_csv('llama2.csv')\n",
    "output_df.head()"
   ]
  },
  {
   "cell_type": "code",
   "execution_count": null,
   "metadata": {},
   "outputs": [],
   "source": []
  }
 ],
 "metadata": {
  "kernelspec": {
   "display_name": "Python 3",
   "language": "python",
   "name": "python3"
  },
  "language_info": {
   "codemirror_mode": {
    "name": "ipython",
    "version": 3
   },
   "file_extension": ".py",
   "mimetype": "text/x-python",
   "name": "python",
   "nbconvert_exporter": "python",
   "pygments_lexer": "ipython3",
   "version": "3.12.4"
  }
 },
 "nbformat": 4,
 "nbformat_minor": 2
}
